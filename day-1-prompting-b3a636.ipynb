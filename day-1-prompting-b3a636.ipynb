{
 "cells": [
  {
   "cell_type": "markdown",
   "id": "38abba40",
   "metadata": {
    "id": "jkxRSYjzA1oX",
    "papermill": {
     "duration": 0.014393,
     "end_time": "2025-03-31T22:42:34.531416",
     "exception": false,
     "start_time": "2025-03-31T22:42:34.517023",
     "status": "completed"
    },
    "tags": []
   },
   "source": [
    "##### Copyright 2025 Google LLC."
   ]
  },
  {
   "cell_type": "code",
   "execution_count": 1,
   "id": "ac180495",
   "metadata": {
    "cellView": "form",
    "execution": {
     "iopub.execute_input": "2025-03-31T22:42:34.559585Z",
     "iopub.status.busy": "2025-03-31T22:42:34.559187Z",
     "iopub.status.idle": "2025-03-31T22:42:34.565366Z",
     "shell.execute_reply": "2025-03-31T22:42:34.564103Z"
    },
    "id": "5u5OZ2ShA3BA",
    "jupyter": {
     "source_hidden": true
    },
    "papermill": {
     "duration": 0.023534,
     "end_time": "2025-03-31T22:42:34.567689",
     "exception": false,
     "start_time": "2025-03-31T22:42:34.544155",
     "status": "completed"
    },
    "tags": []
   },
   "outputs": [],
   "source": [
    "# @title Licensed under the Apache License, Version 2.0 (the \"License\");\n",
    "# you may not use this file except in compliance with the License.\n",
    "# You may obtain a copy of the License at\n",
    "#\n",
    "# https://www.apache.org/licenses/LICENSE-2.0\n",
    "#\n",
    "# Unless required by applicable law or agreed to in writing, software\n",
    "# distributed under the License is distributed on an \"AS IS\" BASIS,\n",
    "# WITHOUT WARRANTIES OR CONDITIONS OF ANY KIND, either express or implied.\n",
    "# See the License for the specific language governing permissions and\n",
    "# limitations under the License."
   ]
  },
  {
   "cell_type": "markdown",
   "id": "a5168fab",
   "metadata": {
    "id": "csNPnkuCobmG",
    "papermill": {
     "duration": 0.013389,
     "end_time": "2025-03-31T22:42:34.593796",
     "exception": false,
     "start_time": "2025-03-31T22:42:34.580407",
     "status": "completed"
    },
    "tags": []
   },
   "source": [
    "# Day 1 - Prompting\n",
    "\n",
    "Welcome to the Kaggle 5-day Generative AI course!\n",
    "\n",
    "This notebook will show you how to get started with the Gemini API and walk you through some of the example prompts and techniques that you can also read about in the Prompting whitepaper. You don't need to read the whitepaper to use this notebook, but the papers will give you some theoretical context and background to complement this interactive notebook.\n",
    "\n",
    "\n",
    "## Before you begin\n",
    "\n",
    "In this notebook, you'll start exploring prompting using the Python SDK and AI Studio. For some inspiration, you might enjoy exploring some apps that have been built using the Gemini family of models. Here are a few that we like, and we think you will too.\n",
    "\n",
    "* [TextFX](https://textfx.withgoogle.com/) is a suite of AI-powered tools for rappers, made in collaboration with Lupe Fiasco,\n",
    "* [SQL Talk](https://sql-talk-r5gdynozbq-uc.a.run.app/) shows how you can talk directly to a database using the Gemini API,\n",
    "* [NotebookLM](https://notebooklm.google/) uses Gemini models to build your own personal AI research assistant.\n",
    "\n",
    "\n",
    "## For help\n",
    "\n",
    "**Common issues are covered in the [FAQ and troubleshooting guide](https://www.kaggle.com/code/markishere/day-0-troubleshooting-and-faqs).**\n",
    "\n",
    "## New for Gemini 2.0!\n",
    "\n",
    "This course material was first launched in November 2024. The AI and LLM space is moving incredibly fast, so we have made some updates to use the latest models and capabilities.\n",
    "\n",
    "* These codelabs have been updated to use the Gemini 2.0 family of models.\n",
    "* The Python SDK has been updated from `google-generativeai` to the new, unified [`google-genai`](https://pypi.org/project/google-genai) SDK.\n",
    "  * This new SDK works with both the developer Gemini API as well as Google Cloud Vertex AI, and switching is [as simple as changing some fields](https://pypi.org/project/google-genai/#:~:text=.Client%28%29-,API%20Selection,-By%20default%2C%20the).\n",
    "* New model capabilities have been added to the relevant codelabs, such as \"thinking mode\" in this lab.\n",
    "* Day 1 includes a new [Evaluation codelab](https://www.kaggle.com/code/markishere/day-1-evaluation-and-structured-output)."
   ]
  },
  {
   "attachments": {
    "d8299597-f771-4195-ac94-1d6f658ef2bd.png": {
     "image/png": "[encoded data removed]"
    },
    "ed25e346-2e15-4ab0-bc22-503eb1845e66.png": {
     "image/png": "[encoded data removed]"
    }
   },
   "cell_type": "markdown",
   "id": "030c5391",
   "metadata": {
    "id": "f00ea7c99e44",
    "papermill": {
     "duration": 0.012371,
     "end_time": "2025-03-31T22:42:34.618634",
     "exception": false,
     "start_time": "2025-03-31T22:42:34.606263",
     "status": "completed"
    },
    "tags": []
   },
   "source": [
    "## Get started with Kaggle notebooks\n",
    "\n",
    "If this is your first time using a Kaggle notebook, welcome! You can read about how to use Kaggle notebooks [in the docs](https://www.kaggle.com/docs/notebooks).\n",
    "\n",
    "First, you will need to phone verify your account at kaggle.com/settings.\n",
    "\n",
    "![](https://storage.googleapis.com/kaggle-media/Images/5dgai_0.png)"
   ]
  },
  {
   "cell_type": "markdown",
   "id": "9d5f833e",
   "metadata": {
    "papermill": {
     "duration": 0.012044,
     "end_time": "2025-03-31T22:42:34.643184",
     "exception": false,
     "start_time": "2025-03-31T22:42:34.631140",
     "status": "completed"
    },
    "tags": []
   },
   "source": [
    "To run this notebook, as well as the others in this course, you will need to make a copy, or fork, the notebook. Look for the `Copy and Edit` button in the top-right, and **click it** to make an editable, private copy of the notebook. It should look like this one:\n",
    "\n",
    "![Copy and Edit button](https://storage.googleapis.com/kaggle-media/Images/5gdai_sc_1.png)\n",
    "\n",
    "Your copy will now have a ▶️ **Run** button next to each code cell that you can press to execute that cell. These notebooks are expected to be run in order from top-to-bottom, but you are encouraged to add new cells, run your own code and explore. If you get stuck, you can try the `Factory reset` option in the `Run` menu, or head back to the original notebook and make a fresh copy.\n",
    "\n",
    "![Run cell button](https://storage.googleapis.com/kaggle-media/Images/5gdai_sc_2.png)\n",
    "\n",
    "### Problems?\n",
    "\n",
    "If you have any problems, head over to the [Kaggle Discord](https://discord.com/invite/kaggle), find the [`#5dgai-q-and-a` channel](https://discord.com/channels/1101210829807956100/1303438695143178251) and ask for help."
   ]
  },
  {
   "cell_type": "markdown",
   "id": "8a9323d9",
   "metadata": {
    "id": "ExkOXcPxtTb5",
    "papermill": {
     "duration": 0.012098,
     "end_time": "2025-03-31T22:42:34.668198",
     "exception": false,
     "start_time": "2025-03-31T22:42:34.656100",
     "status": "completed"
    },
    "tags": []
   },
   "source": [
    "## Get started with the Gemini API\n",
    "\n",
    "All of the exercises in this notebook will use the [Gemini API](https://ai.google.dev/gemini-api/) by way of the [Python SDK](https://pypi.org/project/google-genai/). Each of these prompts can be accessed directly in [Google AI Studio](https://aistudio.google.com/) too, so if you would rather use a web interface and skip the code for this activity, look for the <img src=\"https://ai.google.dev/site-assets/images/marketing/home/icon-ais.png\" style=\"height: 24px\" height=24/> AI Studio link on each prompt."
   ]
  },
  {
   "cell_type": "markdown",
   "id": "9a4e1899",
   "metadata": {
    "papermill": {
     "duration": 0.012641,
     "end_time": "2025-03-31T22:42:34.693882",
     "exception": false,
     "start_time": "2025-03-31T22:42:34.681241",
     "status": "completed"
    },
    "tags": []
   },
   "source": [
    "Next, you will need to add your API key to your Kaggle Notebook as a Kaggle User Secret.\n",
    "\n",
    "![](https://storage.googleapis.com/kaggle-media/Images/5dgai_1.png)\n",
    "![](https://storage.googleapis.com/kaggle-media/Images/5dgai_2.png)\n",
    "![](https://storage.googleapis.com/kaggle-media/Images/5dgai_3.png)\n",
    "![](https://storage.googleapis.com/kaggle-media/Images/5dgai_4.png)"
   ]
  },
  {
   "cell_type": "markdown",
   "id": "ebfad8f5",
   "metadata": {
    "id": "UAjUV3BsvFXQ",
    "papermill": {
     "duration": 0.011994,
     "end_time": "2025-03-31T22:42:34.718957",
     "exception": false,
     "start_time": "2025-03-31T22:42:34.706963",
     "status": "completed"
    },
    "tags": []
   },
   "source": [
    "### Install the SDK"
   ]
  },
  {
   "cell_type": "code",
   "execution_count": 2,
   "id": "6e4bba28",
   "metadata": {
    "execution": {
     "iopub.execute_input": "2025-03-31T22:42:34.746499Z",
     "iopub.status.busy": "2025-03-31T22:42:34.745649Z",
     "iopub.status.idle": "2025-03-31T22:42:53.151009Z",
     "shell.execute_reply": "2025-03-31T22:42:53.149727Z"
    },
    "id": "NzwzJFU9LqkJ",
    "papermill": {
     "duration": 18.421976,
     "end_time": "2025-03-31T22:42:53.153452",
     "exception": false,
     "start_time": "2025-03-31T22:42:34.731476",
     "status": "completed"
    },
    "tags": []
   },
   "outputs": [],
   "source": [
    "!pip uninstall -qqy jupyterlab  # Remove unused packages from Kaggle's base image that conflict\n",
    "!pip install -U -q \"google-genai==1.7.0\""
   ]
  },
  {
   "cell_type": "markdown",
   "id": "f80e8992",
   "metadata": {
    "papermill": {
     "duration": 0.01222,
     "end_time": "2025-03-31T22:42:53.178153",
     "exception": false,
     "start_time": "2025-03-31T22:42:53.165933",
     "status": "completed"
    },
    "tags": []
   },
   "source": [
    "Import the SDK and some helpers for rendering the output."
   ]
  },
  {
   "cell_type": "code",
   "execution_count": 3,
   "id": "d689e511",
   "metadata": {
    "execution": {
     "iopub.execute_input": "2025-03-31T22:42:53.205078Z",
     "iopub.status.busy": "2025-03-31T22:42:53.204655Z",
     "iopub.status.idle": "2025-03-31T22:42:54.536684Z",
     "shell.execute_reply": "2025-03-31T22:42:54.535746Z"
    },
    "id": "5DwxYIRavMST",
    "papermill": {
     "duration": 1.34866,
     "end_time": "2025-03-31T22:42:54.539272",
     "exception": false,
     "start_time": "2025-03-31T22:42:53.190612",
     "status": "completed"
    },
    "tags": []
   },
   "outputs": [],
   "source": [
    "from google import genai\n",
    "from google.genai import types\n",
    "\n",
    "from IPython.display import HTML, Markdown, display"
   ]
  },
  {
   "cell_type": "markdown",
   "id": "f981d6f2",
   "metadata": {
    "papermill": {
     "duration": 0.012754,
     "end_time": "2025-03-31T22:42:54.565247",
     "exception": false,
     "start_time": "2025-03-31T22:42:54.552493",
     "status": "completed"
    },
    "tags": []
   },
   "source": [
    "Set up a retry helper. This allows you to \"Run all\" without worrying about per-minute quota."
   ]
  },
  {
   "cell_type": "code",
   "execution_count": 4,
   "id": "280c4bf1",
   "metadata": {
    "execution": {
     "iopub.execute_input": "2025-03-31T22:42:54.593996Z",
     "iopub.status.busy": "2025-03-31T22:42:54.592858Z",
     "iopub.status.idle": "2025-03-31T22:42:54.764348Z",
     "shell.execute_reply": "2025-03-31T22:42:54.763357Z"
    },
    "papermill": {
     "duration": 0.187969,
     "end_time": "2025-03-31T22:42:54.766757",
     "exception": false,
     "start_time": "2025-03-31T22:42:54.578788",
     "status": "completed"
    },
    "tags": []
   },
   "outputs": [],
   "source": [
    "from google.api_core import retry\n",
    "\n",
    "\n",
    "is_retriable = lambda e: (isinstance(e, genai.errors.APIError) and e.code in {429, 503})\n",
    "\n",
    "genai.models.Models.generate_content = retry.Retry(\n",
    "    predicate=is_retriable)(genai.models.Models.generate_content)"
   ]
  },
  {
   "cell_type": "markdown",
   "id": "4e452105",
   "metadata": {
    "id": "DNEt2BCOvOJ1",
    "papermill": {
     "duration": 0.013185,
     "end_time": "2025-03-31T22:42:54.792712",
     "exception": false,
     "start_time": "2025-03-31T22:42:54.779527",
     "status": "completed"
    },
    "tags": []
   },
   "source": [
    "### Set up your API key\n",
    "\n",
    "To run the following cell, your API key must be stored it in a [Kaggle secret](https://www.kaggle.com/discussions/product-feedback/114053) named `GOOGLE_API_KEY`.\n",
    "\n",
    "If you don't already have an API key, you can grab one from [AI Studio](https://aistudio.google.com/app/apikey). You can find [detailed instructions in the docs](https://ai.google.dev/gemini-api/docs/api-key).\n",
    "\n",
    "To make the key available through Kaggle secrets, choose `Secrets` from the `Add-ons` menu and follow the instructions to add your key or enable it for this notebook."
   ]
  },
  {
   "cell_type": "code",
   "execution_count": 5,
   "id": "aeae48a5",
   "metadata": {
    "execution": {
     "iopub.execute_input": "2025-03-31T22:42:54.819347Z",
     "iopub.status.busy": "2025-03-31T22:42:54.818805Z",
     "iopub.status.idle": "2025-03-31T22:42:55.021029Z",
     "shell.execute_reply": "2025-03-31T22:42:55.019304Z"
    },
    "id": "SHl0bkPCvayd",
    "papermill": {
     "duration": 0.218606,
     "end_time": "2025-03-31T22:42:55.023743",
     "exception": false,
     "start_time": "2025-03-31T22:42:54.805137",
     "status": "completed"
    },
    "tags": []
   },
   "outputs": [],
   "source": [
    "from kaggle_secrets import UserSecretsClient\n",
    "\n",
    "GOOGLE_API_KEY = UserSecretsClient().get_secret(\"GOOGLE_API_KEY\")"
   ]
  },
  {
   "attachments": {
    "d2be9aab-2527-48af-b6cf-1f06cdd7c3a7.png": {
     "image/png": "[encoded data removed]"
    }
   },
   "cell_type": "markdown",
   "id": "50be3d05",
   "metadata": {
    "id": "4e720472fd86",
    "papermill": {
     "duration": 0.011934,
     "end_time": "2025-03-31T22:42:55.048586",
     "exception": false,
     "start_time": "2025-03-31T22:42:55.036652",
     "status": "completed"
    },
    "tags": []
   },
   "source": [
    "If you received an error response along the lines of `No user secrets exist for kernel id ...`, then you need to add your API key via `Add-ons`, `Secrets` **and** enable it.\n",
    "\n",
    "![Screenshot of the checkbox to enable GOOGLE_API_KEY secret](https://storage.googleapis.com/kaggle-media/Images/5gdai_sc_3.png)"
   ]
  },
  {
   "cell_type": "markdown",
   "id": "9321b2b1",
   "metadata": {
    "id": "H_YXCYIKvyZJ",
    "papermill": {
     "duration": 0.011888,
     "end_time": "2025-03-31T22:42:55.072770",
     "exception": false,
     "start_time": "2025-03-31T22:42:55.060882",
     "status": "completed"
    },
    "tags": []
   },
   "source": [
    "### Run your first prompt\n",
    "\n",
    "In this step, you will test that your API key is set up correctly by making a request.\n",
    "\n",
    "The Python SDK uses a [`Client` object](https://googleapis.github.io/python-genai/genai.html#genai.client.Client) to make requests to the API. The client lets you control which back-end to use (between the Gemini API and Vertex AI) and handles authentication (the API key).\n",
    "\n",
    "The `gemini-2.0-flash` model has been selected here.\n",
    "\n",
    "**Note**: If you see a `TransportError` on this step, you may need to **🔁 Factory reset** the notebook one time."
   ]
  },
  {
   "cell_type": "code",
   "execution_count": 6,
   "id": "41c2afd1",
   "metadata": {
    "execution": {
     "iopub.execute_input": "2025-03-31T22:42:55.099298Z",
     "iopub.status.busy": "2025-03-31T22:42:55.098891Z",
     "iopub.status.idle": "2025-03-31T22:42:57.191281Z",
     "shell.execute_reply": "2025-03-31T22:42:57.190134Z"
    },
    "id": "BV1o0PmcvyJF",
    "papermill": {
     "duration": 2.108541,
     "end_time": "2025-03-31T22:42:57.193821",
     "exception": false,
     "start_time": "2025-03-31T22:42:55.085280",
     "status": "completed"
    },
    "tags": []
   },
   "outputs": [
    {
     "name": "stdout",
     "output_type": "stream",
     "text": [
      "Okay, imagine you have a really, REALLY smart toy! This toy can learn new things, just like you do! That toy is kind of like AI.\n",
      "\n",
      "AI stands for Artificial Intelligence. \"Artificial\" means it's not real, it's made by people. \"Intelligence\" means it can think and learn.\n",
      "\n",
      "So, AI is a smart thing that humans make that can:\n",
      "\n",
      "*   **See:** Like a camera that can tell the difference between a dog and a cat.\n",
      "*   **Hear:** Like a voice assistant that can understand what you're saying.\n",
      "*   **Learn:** Like when you teach a dog a new trick, AI can learn from lots of examples to get better at doing things.\n",
      "*   **Solve problems:** Like figuring out the fastest way to get to school or the best move to make in a game.\n",
      "\n",
      "Think of it like this:\n",
      "\n",
      "*   **Google:** It uses AI to understand what you're searching for, even if you don't spell it perfectly.\n",
      "*   **Video Games:** Some games use AI to make the enemies smarter so they're harder to beat!\n",
      "*   **Netflix:** It uses AI to recommend shows you might like based on what you've watched before.\n",
      "\n",
      "AI is still learning and growing, just like you!  Sometimes it makes mistakes, but it's getting smarter all the time. It helps us do lots of things, from making our phones smarter to helping doctors find cures for diseases!\n",
      "\n",
      "Does that make sense? Ask me if you have more questions!\n",
      "\n"
     ]
    }
   ],
   "source": [
    "client = genai.Client(api_key=GOOGLE_API_KEY)\n",
    "\n",
    "response = client.models.generate_content(\n",
    "    model=\"gemini-2.0-flash\",\n",
    "    contents=\"Explain AI to me like I'm a kid.\")\n",
    "\n",
    "print(response.text)"
   ]
  },
  {
   "cell_type": "markdown",
   "id": "4f69a4f8",
   "metadata": {
    "id": "f60ed9d8ae41",
    "papermill": {
     "duration": 0.012228,
     "end_time": "2025-03-31T22:42:57.218937",
     "exception": false,
     "start_time": "2025-03-31T22:42:57.206709",
     "status": "completed"
    },
    "tags": []
   },
   "source": [
    "The response often comes back in markdown format, which you can render directly in this notebook."
   ]
  },
  {
   "cell_type": "code",
   "execution_count": 7,
   "id": "0f3cac9f",
   "metadata": {
    "execution": {
     "iopub.execute_input": "2025-03-31T22:42:57.246349Z",
     "iopub.status.busy": "2025-03-31T22:42:57.245895Z",
     "iopub.status.idle": "2025-03-31T22:42:57.254252Z",
     "shell.execute_reply": "2025-03-31T22:42:57.253237Z"
    },
    "id": "c933e5e460a5",
    "papermill": {
     "duration": 0.024622,
     "end_time": "2025-03-31T22:42:57.256401",
     "exception": false,
     "start_time": "2025-03-31T22:42:57.231779",
     "status": "completed"
    },
    "tags": []
   },
   "outputs": [
    {
     "data": {
      "text/markdown": [
       "Okay, imagine you have a really, REALLY smart toy! This toy can learn new things, just like you do! That toy is kind of like AI.\n",
       "\n",
       "AI stands for Artificial Intelligence. \"Artificial\" means it's not real, it's made by people. \"Intelligence\" means it can think and learn.\n",
       "\n",
       "So, AI is a smart thing that humans make that can:\n",
       "\n",
       "*   **See:** Like a camera that can tell the difference between a dog and a cat.\n",
       "*   **Hear:** Like a voice assistant that can understand what you're saying.\n",
       "*   **Learn:** Like when you teach a dog a new trick, AI can learn from lots of examples to get better at doing things.\n",
       "*   **Solve problems:** Like figuring out the fastest way to get to school or the best move to make in a game.\n",
       "\n",
       "Think of it like this:\n",
       "\n",
       "*   **Google:** It uses AI to understand what you're searching for, even if you don't spell it perfectly.\n",
       "*   **Video Games:** Some games use AI to make the enemies smarter so they're harder to beat!\n",
       "*   **Netflix:** It uses AI to recommend shows you might like based on what you've watched before.\n",
       "\n",
       "AI is still learning and growing, just like you!  Sometimes it makes mistakes, but it's getting smarter all the time. It helps us do lots of things, from making our phones smarter to helping doctors find cures for diseases!\n",
       "\n",
       "Does that make sense? Ask me if you have more questions!\n"
      ],
      "text/plain": [
       "<IPython.core.display.Markdown object>"
      ]
     },
     "execution_count": 7,
     "metadata": {},
     "output_type": "execute_result"
    }
   ],
   "source": [
    "Markdown(response.text)"
   ]
  },
  {
   "cell_type": "markdown",
   "id": "398107f2",
   "metadata": {
    "id": "byx0pT9ZMW2Q",
    "papermill": {
     "duration": 0.012393,
     "end_time": "2025-03-31T22:42:57.281934",
     "exception": false,
     "start_time": "2025-03-31T22:42:57.269541",
     "status": "completed"
    },
    "tags": []
   },
   "source": [
    "### Start a chat\n",
    "\n",
    "The previous example uses a single-turn, text-in/text-out structure, but you can also set up a multi-turn chat structure too."
   ]
  },
  {
   "cell_type": "code",
   "execution_count": 8,
   "id": "f2d3cc87",
   "metadata": {
    "execution": {
     "iopub.execute_input": "2025-03-31T22:42:57.308495Z",
     "iopub.status.busy": "2025-03-31T22:42:57.308105Z",
     "iopub.status.idle": "2025-03-31T22:42:57.828670Z",
     "shell.execute_reply": "2025-03-31T22:42:57.827558Z"
    },
    "id": "lV_S5ZL5MidD",
    "papermill": {
     "duration": 0.53707,
     "end_time": "2025-03-31T22:42:57.831522",
     "exception": false,
     "start_time": "2025-03-31T22:42:57.294452",
     "status": "completed"
    },
    "tags": []
   },
   "outputs": [
    {
     "name": "stdout",
     "output_type": "stream",
     "text": [
      "Hello Zlork! It's nice to meet you. How can I help you today?\n",
      "\n"
     ]
    }
   ],
   "source": [
    "chat = client.chats.create(model='gemini-2.0-flash', history=[])\n",
    "response = chat.send_message('Hello! My name is Zlork.')\n",
    "print(response.text)"
   ]
  },
  {
   "cell_type": "code",
   "execution_count": 9,
   "id": "17701799",
   "metadata": {
    "execution": {
     "iopub.execute_input": "2025-03-31T22:42:57.860477Z",
     "iopub.status.busy": "2025-03-31T22:42:57.859726Z",
     "iopub.status.idle": "2025-03-31T22:42:59.705403Z",
     "shell.execute_reply": "2025-03-31T22:42:59.704251Z"
    },
    "id": "7b0372c3c64a",
    "papermill": {
     "duration": 1.862071,
     "end_time": "2025-03-31T22:42:59.707815",
     "exception": false,
     "start_time": "2025-03-31T22:42:57.845744",
     "status": "completed"
    },
    "tags": []
   },
   "outputs": [
    {
     "name": "stdout",
     "output_type": "stream",
     "text": [
      "Okay, here's a fascinating fact about dinosaurs that you might find interesting:\n",
      "\n",
      "**Some dinosaurs had feathers, even non-avian ones, and not just for flight!**\n",
      "\n",
      "While we often think of feathers being exclusive to birds, which are the direct descendants of theropod dinosaurs like Velociraptor and Tyrannosaurus Rex, evidence suggests that feathers were actually quite common among various dinosaur species.\n",
      "\n",
      "*   **Purpose beyond Flight:** Some dinosaurs likely used feathers for insulation, display (attracting mates or intimidating rivals), or even camouflage.\n",
      "\n",
      "*   **Fossil Evidence:** Fossil discoveries, especially in places like China, have revealed amazingly preserved dinosaur skeletons with clear feather impressions.\n",
      "\n",
      "*   **Evolutionary Shift:** This suggests that feathers may have evolved earlier in the dinosaur lineage than previously thought, and that flight was just one of the later adaptations that utilized this pre-existing feature.\n",
      "\n",
      "So, picture not just scaly reptiles, but sometimes colorful, fluffy (or at least downy) dinosaurs roaming the Earth! It really changes the perception of these ancient creatures.\n",
      "\n",
      "Did you find that interesting, Zlork? I can tell you more if you'd like!\n",
      "\n"
     ]
    }
   ],
   "source": [
    "response = chat.send_message('Can you tell me something interesting about dinosaurs?')\n",
    "print(response.text)"
   ]
  },
  {
   "cell_type": "markdown",
   "id": "3df8881c",
   "metadata": {
    "papermill": {
     "duration": 0.013515,
     "end_time": "2025-03-31T22:42:59.734445",
     "exception": false,
     "start_time": "2025-03-31T22:42:59.720930",
     "status": "completed"
    },
    "tags": []
   },
   "source": [
    "While you have the `chat` object alive, the conversation state\n",
    "persists. Confirm that by asking if it knows the user's name."
   ]
  },
  {
   "cell_type": "code",
   "execution_count": 10,
   "id": "66e30839",
   "metadata": {
    "execution": {
     "iopub.execute_input": "2025-03-31T22:42:59.763388Z",
     "iopub.status.busy": "2025-03-31T22:42:59.762969Z",
     "iopub.status.idle": "2025-03-31T22:43:00.326261Z",
     "shell.execute_reply": "2025-03-31T22:43:00.325091Z"
    },
    "id": "d3f9591392a7",
    "papermill": {
     "duration": 0.580245,
     "end_time": "2025-03-31T22:43:00.328404",
     "exception": false,
     "start_time": "2025-03-31T22:42:59.748159",
     "status": "completed"
    },
    "tags": []
   },
   "outputs": [
    {
     "name": "stdout",
     "output_type": "stream",
     "text": [
      "Yes, Zlork! I remember your name is Zlork. I'm designed to remember information from our conversation.\n",
      "\n"
     ]
    }
   ],
   "source": [
    "response = chat.send_message('Do you remember what my name is?')\n",
    "print(response.text)"
   ]
  },
  {
   "cell_type": "markdown",
   "id": "b0ea92dd",
   "metadata": {
    "id": "2KAjpr1200sW",
    "papermill": {
     "duration": 0.012572,
     "end_time": "2025-03-31T22:43:00.354139",
     "exception": false,
     "start_time": "2025-03-31T22:43:00.341567",
     "status": "completed"
    },
    "tags": []
   },
   "source": [
    "### Choose a model\n",
    "\n",
    "The Gemini API provides access to a number of models from the Gemini model family. Read about the available models and their capabilities on the [model overview page](https://ai.google.dev/gemini-api/docs/models/gemini).\n",
    "\n",
    "In this step you'll use the API to list all of the available models."
   ]
  },
  {
   "cell_type": "code",
   "execution_count": 11,
   "id": "2c1782e6",
   "metadata": {
    "execution": {
     "iopub.execute_input": "2025-03-31T22:43:00.381540Z",
     "iopub.status.busy": "2025-03-31T22:43:00.381131Z",
     "iopub.status.idle": "2025-03-31T22:43:00.408302Z",
     "shell.execute_reply": "2025-03-31T22:43:00.406946Z"
    },
    "id": "uUUZa2uq2jDm",
    "papermill": {
     "duration": 0.04381,
     "end_time": "2025-03-31T22:43:00.410824",
     "exception": false,
     "start_time": "2025-03-31T22:43:00.367014",
     "status": "completed"
    },
    "tags": []
   },
   "outputs": [
    {
     "name": "stdout",
     "output_type": "stream",
     "text": [
      "models/chat-bison-001\n",
      "models/text-bison-001\n",
      "models/embedding-gecko-001\n",
      "models/gemini-1.0-pro-vision-latest\n",
      "models/gemini-pro-vision\n",
      "models/gemini-1.5-pro-latest\n",
      "models/gemini-1.5-pro-001\n",
      "models/gemini-1.5-pro-002\n",
      "models/gemini-1.5-pro\n",
      "models/gemini-1.5-flash-latest\n",
      "models/gemini-1.5-flash-001\n",
      "models/gemini-1.5-flash-001-tuning\n",
      "models/gemini-1.5-flash\n",
      "models/gemini-1.5-flash-002\n",
      "models/gemini-1.5-flash-8b\n",
      "models/gemini-1.5-flash-8b-001\n",
      "models/gemini-1.5-flash-8b-latest\n",
      "models/gemini-1.5-flash-8b-exp-0827\n",
      "models/gemini-1.5-flash-8b-exp-0924\n",
      "models/gemini-2.5-pro-exp-03-25\n",
      "models/gemini-2.0-flash-exp\n",
      "models/gemini-2.0-flash\n",
      "models/gemini-2.0-flash-001\n",
      "models/gemini-2.0-flash-exp-image-generation\n",
      "models/gemini-2.0-flash-lite-001\n",
      "models/gemini-2.0-flash-lite\n",
      "models/gemini-2.0-flash-lite-preview-02-05\n",
      "models/gemini-2.0-flash-lite-preview\n",
      "models/gemini-2.0-pro-exp\n",
      "models/gemini-2.0-pro-exp-02-05\n",
      "models/gemini-exp-1206\n",
      "models/gemini-2.0-flash-thinking-exp-01-21\n",
      "models/gemini-2.0-flash-thinking-exp\n",
      "models/gemini-2.0-flash-thinking-exp-1219\n",
      "models/learnlm-1.5-pro-experimental\n",
      "models/gemma-3-27b-it\n",
      "models/embedding-001\n",
      "models/text-embedding-004\n",
      "models/gemini-embedding-exp-03-07\n",
      "models/gemini-embedding-exp\n",
      "models/aqa\n",
      "models/imagen-3.0-generate-002\n"
     ]
    }
   ],
   "source": [
    "for model in client.models.list():\n",
    "  print(model.name)"
   ]
  },
  {
   "cell_type": "markdown",
   "id": "fc6b4b67",
   "metadata": {
    "id": "rN49kSI54R1v",
    "papermill": {
     "duration": 0.012986,
     "end_time": "2025-03-31T22:43:00.437751",
     "exception": false,
     "start_time": "2025-03-31T22:43:00.424765",
     "status": "completed"
    },
    "tags": []
   },
   "source": [
    "The [`models.list`](https://ai.google.dev/api/models#method:-models.list) response also returns additional information about the model's capabilities, like the token limits and supported parameters."
   ]
  },
  {
   "cell_type": "code",
   "execution_count": 12,
   "id": "4136d790",
   "metadata": {
    "execution": {
     "iopub.execute_input": "2025-03-31T22:43:00.467244Z",
     "iopub.status.busy": "2025-03-31T22:43:00.466814Z",
     "iopub.status.idle": "2025-03-31T22:43:00.496284Z",
     "shell.execute_reply": "2025-03-31T22:43:00.495026Z"
    },
    "id": "k7JJ1K6j4Rl8",
    "papermill": {
     "duration": 0.047067,
     "end_time": "2025-03-31T22:43:00.498730",
     "exception": false,
     "start_time": "2025-03-31T22:43:00.451663",
     "status": "completed"
    },
    "tags": []
   },
   "outputs": [
    {
     "name": "stdout",
     "output_type": "stream",
     "text": [
      "{'description': 'Gemini 2.0 Flash',\n",
      " 'display_name': 'Gemini 2.0 Flash',\n",
      " 'input_token_limit': 1048576,\n",
      " 'name': 'models/gemini-2.0-flash',\n",
      " 'output_token_limit': 8192,\n",
      " 'supported_actions': ['generateContent', 'countTokens'],\n",
      " 'tuned_model_info': {},\n",
      " 'version': '2.0'}\n"
     ]
    }
   ],
   "source": [
    "from pprint import pprint\n",
    "\n",
    "for model in client.models.list():\n",
    "  if model.name == 'models/gemini-2.0-flash':\n",
    "    pprint(model.to_json_dict())\n",
    "    break"
   ]
  },
  {
   "cell_type": "markdown",
   "id": "4067e5a1",
   "metadata": {
    "id": "5rU_UBlZdooM",
    "papermill": {
     "duration": 0.013615,
     "end_time": "2025-03-31T22:43:00.526104",
     "exception": false,
     "start_time": "2025-03-31T22:43:00.512489",
     "status": "completed"
    },
    "tags": []
   },
   "source": [
    "## Explore generation parameters\n",
    "\n"
   ]
  },
  {
   "cell_type": "markdown",
   "id": "f557bcb0",
   "metadata": {
    "id": "G7NfEizeipbW",
    "papermill": {
     "duration": 0.012924,
     "end_time": "2025-03-31T22:43:00.552518",
     "exception": false,
     "start_time": "2025-03-31T22:43:00.539594",
     "status": "completed"
    },
    "tags": []
   },
   "source": [
    "### Output length\n",
    "\n",
    "When generating text with an LLM, the output length affects cost and performance. Generating more tokens increases computation, leading to higher energy consumption, latency, and cost.\n",
    "\n",
    "To stop the model from generating tokens past a limit, you can specify the `max_output_tokens` parameter when using the Gemini API. Specifying this parameter does not influence the generation of the output tokens, so the output will not become more stylistically or textually succinct, but it will stop generating tokens once the specified length is reached. Prompt engineering may be required to generate a more complete output for your given limit."
   ]
  },
  {
   "cell_type": "code",
   "execution_count": 13,
   "id": "106a9e6e",
   "metadata": {
    "execution": {
     "iopub.execute_input": "2025-03-31T22:43:00.580323Z",
     "iopub.status.busy": "2025-03-31T22:43:00.579906Z",
     "iopub.status.idle": "2025-03-31T22:43:01.844910Z",
     "shell.execute_reply": "2025-03-31T22:43:01.843725Z"
    },
    "id": "qVf23JsIi9ma",
    "papermill": {
     "duration": 1.281442,
     "end_time": "2025-03-31T22:43:01.847103",
     "exception": false,
     "start_time": "2025-03-31T22:43:00.565661",
     "status": "completed"
    },
    "tags": []
   },
   "outputs": [
    {
     "name": "stdout",
     "output_type": "stream",
     "text": [
      "## The Humble Olive: A Cornerstone of Modern Society\n",
      "\n",
      "The olive, a small, unassuming fruit, has woven its way into the fabric of human civilization for millennia. Far from being merely a garnish or a flavour enhancer, the olive and its derived products hold a profound importance in modern society, impacting areas as diverse as health, economy, culture, and sustainability. Understanding this significance reveals a rich tapestry of interconnected factors that solidify the olive’s role as a cornerstone of modern life.\n",
      "\n",
      "Perhaps the most readily apparent importance of olives lies in their significant contribution to human health. The olive fruit, particularly when consumed as extra virgin olive oil (EVOO), boasts a remarkable profile of health-promoting compounds. EVOO is rich in monounsaturated fats, particularly oleic acid, which has been linked to reduced risk of cardiovascular disease. By lowering LDL cholesterol (the “bad” cholesterol) and increasing HDL cholesterol (the “good” cholesterol), EVOO contributes to healthier arteries and a reduced likelihood of heart\n"
     ]
    }
   ],
   "source": [
    "from google.genai import types\n",
    "\n",
    "short_config = types.GenerateContentConfig(max_output_tokens=200)\n",
    "\n",
    "response = client.models.generate_content(\n",
    "    model='gemini-2.0-flash',\n",
    "    config=short_config,\n",
    "    contents='Write a 1000 word essay on the importance of olives in modern society.')\n",
    "\n",
    "print(response.text)"
   ]
  },
  {
   "cell_type": "code",
   "execution_count": 14,
   "id": "501df6f9",
   "metadata": {
    "execution": {
     "iopub.execute_input": "2025-03-31T22:43:01.875824Z",
     "iopub.status.busy": "2025-03-31T22:43:01.875425Z",
     "iopub.status.idle": "2025-03-31T22:43:02.796515Z",
     "shell.execute_reply": "2025-03-31T22:43:02.795383Z"
    },
    "id": "W-3kR2F5kdMR",
    "papermill": {
     "duration": 0.938513,
     "end_time": "2025-03-31T22:43:02.798964",
     "exception": false,
     "start_time": "2025-03-31T22:43:01.860451",
     "status": "completed"
    },
    "tags": []
   },
   "outputs": [
    {
     "name": "stdout",
     "output_type": "stream",
     "text": [
      "From ancient groves to modern plate,\n",
      "A tiny fruit, a crucial fate.\n",
      "Pressed into oil, a golden stream,\n",
      "For salads bright, and chefs' esteem.\n",
      "\n",
      "A salty bite, a briny tang,\n",
      "On pizzas bold, where flavors hang.\n",
      "Tapenade's charm, a spread so grand,\n",
      "A taste of sun, in every hand.\n",
      "\n",
      "So hail the olive, small and keen,\n",
      "A staple source, a vibrant scene,\n",
      "From humble start to culinary art,\n",
      "It plays a vital, modern part.\n",
      "\n"
     ]
    }
   ],
   "source": [
    "response = client.models.generate_content(\n",
    "    model='gemini-2.0-flash',\n",
    "    config=short_config,\n",
    "    contents='Write a short poem on the importance of olives in modern society.')\n",
    "\n",
    "print(response.text)"
   ]
  },
  {
   "cell_type": "markdown",
   "id": "827cc417",
   "metadata": {
    "id": "3ZhDSLB6lqqB",
    "papermill": {
     "duration": 0.013571,
     "end_time": "2025-03-31T22:43:02.826573",
     "exception": false,
     "start_time": "2025-03-31T22:43:02.813002",
     "status": "completed"
    },
    "tags": []
   },
   "source": [
    "Explore with your own prompts. Try a prompt with a restrictive output limit and then adjust the prompt to work within that limit."
   ]
  },
  {
   "cell_type": "markdown",
   "id": "5f05b05a",
   "metadata": {
    "id": "alx-WaAvir_9",
    "papermill": {
     "duration": 0.013694,
     "end_time": "2025-03-31T22:43:02.853979",
     "exception": false,
     "start_time": "2025-03-31T22:43:02.840285",
     "status": "completed"
    },
    "tags": []
   },
   "source": [
    "### Temperature\n",
    "\n",
    "Temperature controls the degree of randomness in token selection. Higher temperatures result in a higher number of candidate tokens from which the next output token is selected, and can produce more diverse results, while lower temperatures have the opposite effect, such that a temperature of 0 results in greedy decoding, selecting the most probable token at each step.\n",
    "\n",
    "Temperature doesn't provide any guarantees of randomness, but it can be used to \"nudge\" the output somewhat."
   ]
  },
  {
   "cell_type": "code",
   "execution_count": 15,
   "id": "74f9ee45",
   "metadata": {
    "execution": {
     "iopub.execute_input": "2025-03-31T22:43:02.882475Z",
     "iopub.status.busy": "2025-03-31T22:43:02.882025Z",
     "iopub.status.idle": "2025-03-31T22:43:04.066614Z",
     "shell.execute_reply": "2025-03-31T22:43:04.065429Z"
    },
    "id": "SHraGMzqnZqt",
    "papermill": {
     "duration": 1.20181,
     "end_time": "2025-03-31T22:43:04.068954",
     "exception": false,
     "start_time": "2025-03-31T22:43:02.867144",
     "status": "completed"
    },
    "tags": []
   },
   "outputs": [
    {
     "name": "stdout",
     "output_type": "stream",
     "text": [
      "Azure\n",
      " -------------------------\n",
      "Magenta\n",
      " -------------------------\n",
      "Azure.\n",
      " -------------------------\n",
      "Orange\n",
      " -------------------------\n",
      "Azure\n",
      " -------------------------\n"
     ]
    }
   ],
   "source": [
    "high_temp_config = types.GenerateContentConfig(temperature=2.0)\n",
    "\n",
    "\n",
    "for _ in range(5):\n",
    "  response = client.models.generate_content(\n",
    "      model='gemini-2.0-flash',\n",
    "      config=high_temp_config,\n",
    "      contents='Pick a random colour... (respond in a single word)')\n",
    "\n",
    "  if response.text:\n",
    "    print(response.text, '-' * 25)"
   ]
  },
  {
   "cell_type": "markdown",
   "id": "12cfc4c7",
   "metadata": {
    "id": "z3J4pCTuof7e",
    "papermill": {
     "duration": 0.013436,
     "end_time": "2025-03-31T22:43:04.096352",
     "exception": false,
     "start_time": "2025-03-31T22:43:04.082916",
     "status": "completed"
    },
    "tags": []
   },
   "source": [
    "Now try the same prompt with temperature set to zero. Note that the output is not completely deterministic, as other parameters affect token selection, but the results will tend to be more stable."
   ]
  },
  {
   "cell_type": "code",
   "execution_count": 16,
   "id": "633ed99a",
   "metadata": {
    "execution": {
     "iopub.execute_input": "2025-03-31T22:43:04.126307Z",
     "iopub.status.busy": "2025-03-31T22:43:04.125522Z",
     "iopub.status.idle": "2025-03-31T22:43:05.247310Z",
     "shell.execute_reply": "2025-03-31T22:43:05.246118Z"
    },
    "id": "clymkWv-PfUZ",
    "papermill": {
     "duration": 1.139458,
     "end_time": "2025-03-31T22:43:05.249688",
     "exception": false,
     "start_time": "2025-03-31T22:43:04.110230",
     "status": "completed"
    },
    "tags": []
   },
   "outputs": [
    {
     "name": "stdout",
     "output_type": "stream",
     "text": [
      "Azure\n",
      " -------------------------\n",
      "Azure\n",
      " -------------------------\n",
      "Azure\n",
      " -------------------------\n",
      "Azure\n",
      " -------------------------\n",
      "Azure\n",
      " -------------------------\n"
     ]
    }
   ],
   "source": [
    "low_temp_config = types.GenerateContentConfig(temperature=0.0)\n",
    "\n",
    "for _ in range(5):\n",
    "  response = client.models.generate_content(\n",
    "      model='gemini-2.0-flash',\n",
    "      config=low_temp_config,\n",
    "      contents='Pick a random colour... (respond in a single word)')\n",
    "\n",
    "  if response.text:\n",
    "    print(response.text, '-' * 25)"
   ]
  },
  {
   "cell_type": "markdown",
   "id": "f392dada",
   "metadata": {
    "id": "St5nt3vzitsZ",
    "papermill": {
     "duration": 0.014985,
     "end_time": "2025-03-31T22:43:05.279510",
     "exception": false,
     "start_time": "2025-03-31T22:43:05.264525",
     "status": "completed"
    },
    "tags": []
   },
   "source": [
    "### Top-P\n",
    "\n",
    "Like temperature, the top-P parameter is also used to control the diversity of the model's output.\n",
    "\n",
    "Top-P defines the probability threshold that, once cumulatively exceeded, tokens stop being selected as candidates. A top-P of 0 is typically equivalent to greedy decoding, and a top-P of 1 typically selects every token in the model's vocabulary.\n",
    "\n",
    "You may also see top-K referenced in LLM literature. Top-K is not configurable in the Gemini 2.0 series of models, but can be changed in older models. Top-K is a positive integer that defines the number of most probable tokens from which to select the output token. A top-K of 1 selects a single token, performing greedy decoding.\n",
    "\n",
    "\n",
    "Run this example a number of times, change the settings and observe the change in output."
   ]
  },
  {
   "cell_type": "code",
   "execution_count": 17,
   "id": "1544cfae",
   "metadata": {
    "execution": {
     "iopub.execute_input": "2025-03-31T22:43:05.309840Z",
     "iopub.status.busy": "2025-03-31T22:43:05.309343Z",
     "iopub.status.idle": "2025-03-31T22:44:06.556705Z",
     "shell.execute_reply": "2025-03-31T22:44:06.555618Z"
    },
    "id": "lPlzpEavUV8F",
    "papermill": {
     "duration": 61.280199,
     "end_time": "2025-03-31T22:44:06.574235",
     "exception": false,
     "start_time": "2025-03-31T22:43:05.294036",
     "status": "completed"
    },
    "tags": []
   },
   "outputs": [
    {
     "name": "stdout",
     "output_type": "stream",
     "text": [
      "Clementine, a calico of discerning tastes and a perpetually unimpressed expression, considered her life utterly predictable. Sunbeam naps, chasing dust bunnies, the occasional disdainful glance at the goldfish – it was all terribly…beige. She yearned for something more, a splash of vibrant color in her monochrome existence.\n",
      "\n",
      "One blustery autumn afternoon, the back door, usually bolted tighter than a miser's purse, was ajar. A tantalizing gust of wind, carrying the scent of damp earth and decaying leaves, beckoned. Clementine, abandoning her nap mid-yawn, slipped through the crack.\n",
      "\n",
      "The world outside was a riot of sensory overload. Towering trees, their leaves ablaze in fiery hues, whispered secrets in the wind. Squirrels, plump and frantic, chattered insults from branches. Clementine, usually a creature of comfort, felt a thrill course through her. This was it. Adventure.\n",
      "\n",
      "Her first challenge was the garden. A jungle of overgrown herbs and thorny rose bushes. She navigated it with the grace of a seasoned explorer, her tail held high like a flag. She stalked a particularly plump grasshopper, its green body a stark contrast to the autumnal palette, but it proved too quick. Disappointment flickered in her emerald eyes, but she pressed on.\n",
      "\n",
      "Beyond the garden lay the woods. The air grew cooler, the shadows deeper. Clementine, emboldened by her garden conquest, ventured further. She followed a winding path, her paws padding softly on the fallen leaves. The scent of something wild and unfamiliar filled her nostrils.\n",
      "\n",
      "Suddenly, a rustle in the undergrowth. Clementine froze, her fur bristling. A pair of luminous eyes peered out from the shadows. A fox, its fur the color of burnt orange, regarded her with cautious curiosity.\n",
      "\n",
      "Clementine, despite her bravado, felt a tremor of fear. She had never encountered a creature like this before. The fox, sensing her apprehension, let out a soft bark, a sound that was surprisingly gentle.\n",
      "\n",
      "Instead of attacking, the fox turned and trotted deeper into the woods. Clementine, driven by an insatiable curiosity, followed. The fox led her through a maze of trees, past babbling brooks and moss-covered rocks.\n",
      "\n",
      "Finally, they arrived at a clearing. In the center stood an ancient oak, its branches reaching towards the sky like gnarled fingers. The fox sat beneath the tree, its tail swishing contentedly.\n",
      "\n",
      "Clementine, hesitant at first, approached the oak. She sniffed at its rough bark, feeling the ancient energy that emanated from it. She understood, in that moment, that adventure wasn't about conquering or fighting. It was about experiencing, about connecting with the world around her.\n",
      "\n",
      "She spent the rest of the afternoon with the fox, sharing the quiet companionship of two creatures bound by the magic of the woods. As dusk began to settle, the fox nudged her gently, indicating the way back.\n",
      "\n",
      "Clementine returned home, her fur dusted with leaves and her heart filled with a newfound sense of wonder. She slipped back through the ajar door, unnoticed.\n",
      "\n",
      "Back in the familiar comfort of her home, she curled up on her favorite sunbeam spot. The goldfish swam in its bowl, oblivious to her grand adventure. Clementine closed her eyes, a small, contented purr rumbling in her chest. Her life might still be predictable, but now, it was also touched by the vibrant colors of the woods, the gentle bark of a fox, and the quiet wisdom of an ancient oak. And that, she thought, was anything but beige.\n",
      "\n"
     ]
    }
   ],
   "source": [
    "model_config = types.GenerateContentConfig(\n",
    "    # These are the default values for gemini-2.0-flash.\n",
    "    temperature=2.0,\n",
    "    top_p=0.05,\n",
    ")\n",
    "\n",
    "story_prompt = \"You are a creative writer. Write a short story about a cat who goes on an adventure.\"\n",
    "response = client.models.generate_content(\n",
    "    model='gemini-2.0-flash',\n",
    "    config=model_config,\n",
    "    contents=story_prompt)\n",
    "\n",
    "print(response.text)"
   ]
  },
  {
   "cell_type": "markdown",
   "id": "58992784",
   "metadata": {
    "id": "rMrYs1koY6DX",
    "papermill": {
     "duration": 0.013861,
     "end_time": "2025-03-31T22:44:06.602359",
     "exception": false,
     "start_time": "2025-03-31T22:44:06.588498",
     "status": "completed"
    },
    "tags": []
   },
   "source": [
    "## Prompting\n",
    "\n",
    "This section contains some prompts from the chapter for you to try out directly in the API. Try changing the text here to see how each prompt performs with different instructions, more examples, or any other changes you can think of."
   ]
  },
  {
   "cell_type": "markdown",
   "id": "89014520",
   "metadata": {
    "id": "hhj_tQidZJP7",
    "papermill": {
     "duration": 0.013882,
     "end_time": "2025-03-31T22:44:06.630113",
     "exception": false,
     "start_time": "2025-03-31T22:44:06.616231",
     "status": "completed"
    },
    "tags": []
   },
   "source": [
    "### Zero-shot\n",
    "\n",
    "Zero-shot prompts are prompts that describe the request for the model directly.\n",
    "\n",
    "<table align=left>\n",
    "  <td>\n",
    "    <a target=\"_blank\" href=\"https://aistudio.google.com/prompts/1gzKKgDHwkAvexG5Up0LMtl1-6jKMKe4g\"><img src=\"https://ai.google.dev/site-assets/images/marketing/home/icon-ais.png\" style=\"height: 24px\" height=24/> Open in AI Studio</a>\n",
    "  </td>\n",
    "</table>"
   ]
  },
  {
   "cell_type": "code",
   "execution_count": 18,
   "id": "52684bc3",
   "metadata": {
    "execution": {
     "iopub.execute_input": "2025-03-31T22:44:06.660110Z",
     "iopub.status.busy": "2025-03-31T22:44:06.659667Z",
     "iopub.status.idle": "2025-03-31T22:44:07.115387Z",
     "shell.execute_reply": "2025-03-31T22:44:07.113952Z"
    },
    "id": "1_t-cwnDZzbH",
    "papermill": {
     "duration": 0.473594,
     "end_time": "2025-03-31T22:44:07.117939",
     "exception": false,
     "start_time": "2025-03-31T22:44:06.644345",
     "status": "completed"
    },
    "tags": []
   },
   "outputs": [
    {
     "name": "stdout",
     "output_type": "stream",
     "text": [
      "POSITIVE\n",
      "\n"
     ]
    }
   ],
   "source": [
    "model_config = types.GenerateContentConfig(\n",
    "    temperature=0.1,\n",
    "    top_p=1,\n",
    "    max_output_tokens=5,\n",
    ")\n",
    "\n",
    "zero_shot_prompt = \"\"\"Classify movie reviews as POSITIVE, NEUTRAL or NEGATIVE.\n",
    "Review: \"Her\" is a disturbing study revealing the direction\n",
    "humanity is headed if AI is allowed to keep evolving,\n",
    "unchecked. I wish there were more movies like this masterpiece.\n",
    "Sentiment: \"\"\"\n",
    "\n",
    "response = client.models.generate_content(\n",
    "    model='gemini-2.0-flash',\n",
    "    config=model_config,\n",
    "    contents=zero_shot_prompt)\n",
    "\n",
    "print(response.text)"
   ]
  },
  {
   "cell_type": "markdown",
   "id": "e3e084ad",
   "metadata": {
    "id": "3b5568bdeb11",
    "papermill": {
     "duration": 0.014484,
     "end_time": "2025-03-31T22:44:07.146655",
     "exception": false,
     "start_time": "2025-03-31T22:44:07.132171",
     "status": "completed"
    },
    "tags": []
   },
   "source": [
    "#### Enum mode\n",
    "\n",
    "The models are trained to generate text, and while the Gemini 2.0 models are great at following instructions, other models can sometimes produce more text than you may wish for. In the preceding example, the model will output the label, but sometimes it can include a preceding \"Sentiment\" label, and without an output token limit, it may also add explanatory text afterwards. See [this prompt in AI Studio](https://aistudio.google.com/prompts/1gzKKgDHwkAvexG5Up0LMtl1-6jKMKe4g) for an example.\n",
    "\n",
    "The Gemini API has an [Enum mode](https://github.com/google-gemini/cookbook/blob/main/quickstarts/Enum.ipynb) feature that allows you to constrain the output to a fixed set of values."
   ]
  },
  {
   "cell_type": "code",
   "execution_count": 19,
   "id": "8493d1ea",
   "metadata": {
    "execution": {
     "iopub.execute_input": "2025-03-31T22:44:07.177837Z",
     "iopub.status.busy": "2025-03-31T22:44:07.177295Z",
     "iopub.status.idle": "2025-03-31T22:44:07.693843Z",
     "shell.execute_reply": "2025-03-31T22:44:07.692690Z"
    },
    "id": "ad118a56c598",
    "papermill": {
     "duration": 0.534872,
     "end_time": "2025-03-31T22:44:07.695921",
     "exception": false,
     "start_time": "2025-03-31T22:44:07.161049",
     "status": "completed"
    },
    "tags": []
   },
   "outputs": [
    {
     "name": "stdout",
     "output_type": "stream",
     "text": [
      "positive\n"
     ]
    }
   ],
   "source": [
    "import enum\n",
    "\n",
    "class Sentiment(enum.Enum):\n",
    "    POSITIVE = \"positive\"\n",
    "    NEUTRAL = \"neutral\"\n",
    "    NEGATIVE = \"negative\"\n",
    "\n",
    "\n",
    "response = client.models.generate_content(\n",
    "    model='gemini-2.0-flash',\n",
    "    config=types.GenerateContentConfig(\n",
    "        response_mime_type=\"text/x.enum\",\n",
    "        response_schema=Sentiment\n",
    "    ),\n",
    "    contents=zero_shot_prompt)\n",
    "\n",
    "print(response.text)"
   ]
  },
  {
   "cell_type": "markdown",
   "id": "56229f1c",
   "metadata": {
    "papermill": {
     "duration": 0.013831,
     "end_time": "2025-03-31T22:44:07.723945",
     "exception": false,
     "start_time": "2025-03-31T22:44:07.710114",
     "status": "completed"
    },
    "tags": []
   },
   "source": [
    "When using constrained output like an enum, the Python SDK will attempt to convert the model's text response into a Python object automatically. It's stored in the `response.parsed` field."
   ]
  },
  {
   "cell_type": "code",
   "execution_count": 20,
   "id": "6f303b22",
   "metadata": {
    "execution": {
     "iopub.execute_input": "2025-03-31T22:44:07.754028Z",
     "iopub.status.busy": "2025-03-31T22:44:07.753657Z",
     "iopub.status.idle": "2025-03-31T22:44:07.758932Z",
     "shell.execute_reply": "2025-03-31T22:44:07.757875Z"
    },
    "papermill": {
     "duration": 0.023035,
     "end_time": "2025-03-31T22:44:07.761271",
     "exception": false,
     "start_time": "2025-03-31T22:44:07.738236",
     "status": "completed"
    },
    "tags": []
   },
   "outputs": [
    {
     "name": "stdout",
     "output_type": "stream",
     "text": [
      "Sentiment.POSITIVE\n",
      "<enum 'Sentiment'>\n"
     ]
    }
   ],
   "source": [
    "enum_response = response.parsed\n",
    "print(enum_response)\n",
    "print(type(enum_response))"
   ]
  },
  {
   "cell_type": "markdown",
   "id": "1a738ae1",
   "metadata": {
    "id": "0udiSwNbv45W",
    "papermill": {
     "duration": 0.013841,
     "end_time": "2025-03-31T22:44:07.789354",
     "exception": false,
     "start_time": "2025-03-31T22:44:07.775513",
     "status": "completed"
    },
    "tags": []
   },
   "source": [
    "### One-shot and few-shot\n",
    "\n",
    "Providing an example of the expected response is known as a \"one-shot\" prompt. When you provide multiple examples, it is a \"few-shot\" prompt.\n",
    "\n",
    "<table align=left>\n",
    "  <td>\n",
    "    <a target=\"_blank\" href=\"https://aistudio.google.com/prompts/1jjWkjUSoMXmLvMJ7IzADr_GxHPJVV2bg\"><img src=\"https://ai.google.dev/site-assets/images/marketing/home/icon-ais.png\" style=\"height: 24px\" height=24/> Open in AI Studio</a>\n",
    "  </td>\n",
    "</table>\n"
   ]
  },
  {
   "cell_type": "code",
   "execution_count": 21,
   "id": "76bba01d",
   "metadata": {
    "execution": {
     "iopub.execute_input": "2025-03-31T22:44:07.819962Z",
     "iopub.status.busy": "2025-03-31T22:44:07.819603Z",
     "iopub.status.idle": "2025-03-31T22:44:08.334435Z",
     "shell.execute_reply": "2025-03-31T22:44:08.333254Z"
    },
    "id": "hd4mVUukwOKZ",
    "papermill": {
     "duration": 0.532206,
     "end_time": "2025-03-31T22:44:08.336649",
     "exception": false,
     "start_time": "2025-03-31T22:44:07.804443",
     "status": "completed"
    },
    "tags": []
   },
   "outputs": [
    {
     "name": "stdout",
     "output_type": "stream",
     "text": [
      "```json\n",
      "{\n",
      "\"size\": \"large\",\n",
      "\"type\": \"normal\",\n",
      "\"ingredients\": [\"cheese\", \"pineapple\"]\n",
      "}\n",
      "```\n",
      "\n"
     ]
    }
   ],
   "source": [
    "few_shot_prompt = \"\"\"Parse a customer's pizza order into valid JSON:\n",
    "\n",
    "EXAMPLE:\n",
    "I want a small pizza with cheese, tomato sauce, and pepperoni.\n",
    "JSON Response:\n",
    "```\n",
    "{\n",
    "\"size\": \"small\",\n",
    "\"type\": \"normal\",\n",
    "\"ingredients\": [\"cheese\", \"tomato sauce\", \"pepperoni\"]\n",
    "}\n",
    "```\n",
    "\n",
    "EXAMPLE:\n",
    "Can I get a large pizza with tomato sauce, basil and mozzarella\n",
    "JSON Response:\n",
    "```\n",
    "{\n",
    "\"size\": \"large\",\n",
    "\"type\": \"normal\",\n",
    "\"ingredients\": [\"tomato sauce\", \"basil\", \"mozzarella\"]\n",
    "}\n",
    "```\n",
    "\n",
    "ORDER:\n",
    "\"\"\"\n",
    "\n",
    "customer_order = \"Give me a large with cheese & pineapple\"\n",
    "\n",
    "response = client.models.generate_content(\n",
    "    model='gemini-2.0-flash',\n",
    "    config=types.GenerateContentConfig(\n",
    "        temperature=0.1,\n",
    "        top_p=1,\n",
    "        max_output_tokens=250,\n",
    "    ),\n",
    "    contents=[few_shot_prompt, customer_order])\n",
    "\n",
    "print(response.text)"
   ]
  },
  {
   "cell_type": "markdown",
   "id": "7658a573",
   "metadata": {
    "id": "021293096f08",
    "papermill": {
     "duration": 0.014252,
     "end_time": "2025-03-31T22:44:08.365551",
     "exception": false,
     "start_time": "2025-03-31T22:44:08.351299",
     "status": "completed"
    },
    "tags": []
   },
   "source": [
    "#### JSON mode\n",
    "\n",
    "To provide control over the schema, and to ensure that you only receive JSON (with no other text or markdown), you can use the Gemini API's [JSON mode](https://github.com/google-gemini/cookbook/blob/main/quickstarts/JSON_mode.ipynb). This forces the model to constrain decoding, such that token selection is guided by the supplied schema."
   ]
  },
  {
   "cell_type": "code",
   "execution_count": 22,
   "id": "8d61a601",
   "metadata": {
    "execution": {
     "iopub.execute_input": "2025-03-31T22:44:08.396263Z",
     "iopub.status.busy": "2025-03-31T22:44:08.395825Z",
     "iopub.status.idle": "2025-03-31T22:44:09.063226Z",
     "shell.execute_reply": "2025-03-31T22:44:09.061933Z"
    },
    "id": "50fbf0260912",
    "papermill": {
     "duration": 0.685599,
     "end_time": "2025-03-31T22:44:09.065611",
     "exception": false,
     "start_time": "2025-03-31T22:44:08.380012",
     "status": "completed"
    },
    "tags": []
   },
   "outputs": [
    {
     "name": "stdout",
     "output_type": "stream",
     "text": [
      "{\n",
      "  \"size\": \"large\",\n",
      "  \"ingredients\": [\"apple\", \"chocolate\"],\n",
      "  \"type\": \"dessert\"\n",
      "}\n"
     ]
    }
   ],
   "source": [
    "import typing_extensions as typing\n",
    "\n",
    "class PizzaOrder(typing.TypedDict):\n",
    "    size: str\n",
    "    ingredients: list[str]\n",
    "    type: str\n",
    "\n",
    "\n",
    "response = client.models.generate_content(\n",
    "    model='gemini-2.0-flash',\n",
    "    config=types.GenerateContentConfig(\n",
    "        temperature=0.1,\n",
    "        response_mime_type=\"application/json\",\n",
    "        response_schema=PizzaOrder,\n",
    "    ),\n",
    "    contents=\"Can I have a large dessert pizza with apple and chocolate\")\n",
    "\n",
    "print(response.text)"
   ]
  },
  {
   "cell_type": "markdown",
   "id": "48a59ee0",
   "metadata": {
    "id": "4a93e338e57c",
    "papermill": {
     "duration": 0.014508,
     "end_time": "2025-03-31T22:44:09.094554",
     "exception": false,
     "start_time": "2025-03-31T22:44:09.080046",
     "status": "completed"
    },
    "tags": []
   },
   "source": [
    "### Chain of Thought (CoT)\n",
    "\n",
    "Direct prompting on LLMs can return answers quickly and (in terms of output token usage) efficiently, but they can be prone to hallucination. The answer may \"look\" correct (in terms of language and syntax) but is incorrect in terms of factuality and reasoning.\n",
    "\n",
    "Chain-of-Thought prompting is a technique where you instruct the model to output intermediate reasoning steps, and it typically gets better results, especially when combined with few-shot examples. It is worth noting that this technique doesn't completely eliminate hallucinations, and that it tends to cost more to run, due to the increased token count.\n",
    "\n",
    "Models like the Gemini family are trained to be \"chatty\" or \"thoughtful\" and will provide reasoning steps without prompting, so for this simple example you can ask the model to be more direct in the prompt to force a non-reasoning response. Try re-running this step if the model gets lucky and gets the answer correct on the first try."
   ]
  },
  {
   "cell_type": "code",
   "execution_count": 23,
   "id": "657ba792",
   "metadata": {
    "execution": {
     "iopub.execute_input": "2025-03-31T22:44:09.126189Z",
     "iopub.status.busy": "2025-03-31T22:44:09.125012Z",
     "iopub.status.idle": "2025-03-31T22:44:09.536693Z",
     "shell.execute_reply": "2025-03-31T22:44:09.535530Z"
    },
    "id": "5715555db1c1",
    "papermill": {
     "duration": 0.429536,
     "end_time": "2025-03-31T22:44:09.539011",
     "exception": false,
     "start_time": "2025-03-31T22:44:09.109475",
     "status": "completed"
    },
    "tags": []
   },
   "outputs": [
    {
     "name": "stdout",
     "output_type": "stream",
     "text": [
      "48\n",
      "\n"
     ]
    }
   ],
   "source": [
    "prompt = \"\"\"When I was 4 years old, my partner was 3 times my age. Now, I\n",
    "am 20 years old. How old is my partner? Return the answer directly.\"\"\"\n",
    "\n",
    "response = client.models.generate_content(\n",
    "    model='gemini-2.0-flash',\n",
    "    contents=prompt)\n",
    "\n",
    "print(response.text)"
   ]
  },
  {
   "cell_type": "markdown",
   "id": "8dcf8826",
   "metadata": {
    "id": "e12b19677bfd",
    "papermill": {
     "duration": 0.015567,
     "end_time": "2025-03-31T22:44:09.568943",
     "exception": false,
     "start_time": "2025-03-31T22:44:09.553376",
     "status": "completed"
    },
    "tags": []
   },
   "source": [
    "Now try the same approach, but indicate to the model that it should \"think step by step\"."
   ]
  },
  {
   "cell_type": "code",
   "execution_count": 24,
   "id": "2c972d97",
   "metadata": {
    "execution": {
     "iopub.execute_input": "2025-03-31T22:44:09.600597Z",
     "iopub.status.busy": "2025-03-31T22:44:09.600208Z",
     "iopub.status.idle": "2025-03-31T22:44:10.434739Z",
     "shell.execute_reply": "2025-03-31T22:44:10.433755Z"
    },
    "id": "ffd7536a481f",
    "papermill": {
     "duration": 0.852444,
     "end_time": "2025-03-31T22:44:10.436926",
     "exception": false,
     "start_time": "2025-03-31T22:44:09.584482",
     "status": "completed"
    },
    "tags": []
   },
   "outputs": [
    {
     "data": {
      "text/markdown": [
       "Here's how to solve the problem step-by-step:\n",
       "\n",
       "1.  **Find the age difference:** When you were 4, your partner was 3 times your age, meaning they were 4 * 3 = 12 years old.\n",
       "\n",
       "2.  **Calculate the age gap:** The age difference between you and your partner is 12 - 4 = 8 years.\n",
       "\n",
       "3.  **Determine your partner's current age:** Since your partner is 8 years older than you, and you are now 20, your partner is currently 20 + 8 = 28 years old.\n",
       "\n",
       "**Therefore, your partner is now 28 years old.**"
      ],
      "text/plain": [
       "<IPython.core.display.Markdown object>"
      ]
     },
     "execution_count": 24,
     "metadata": {},
     "output_type": "execute_result"
    }
   ],
   "source": [
    "prompt = \"\"\"When I was 4 years old, my partner was 3 times my age. Now,\n",
    "I am 20 years old. How old is my partner? Let's think step by step.\"\"\"\n",
    "\n",
    "response = client.models.generate_content(\n",
    "    model='gemini-2.0-flash',\n",
    "    contents=prompt)\n",
    "\n",
    "Markdown(response.text)"
   ]
  },
  {
   "cell_type": "markdown",
   "id": "cb768e7d",
   "metadata": {
    "id": "oiLgBQJj0V53",
    "papermill": {
     "duration": 0.014376,
     "end_time": "2025-03-31T22:44:10.466117",
     "exception": false,
     "start_time": "2025-03-31T22:44:10.451741",
     "status": "completed"
    },
    "tags": []
   },
   "source": [
    "### ReAct: Reason and act\n",
    "\n",
    "In this example you will run a ReAct prompt directly in the Gemini API and perform the searching steps yourself. As this prompt follows a well-defined structure, there are frameworks available that wrap the prompt into easier-to-use APIs that make tool calls automatically, such as the LangChain example from the \"Prompting\" whitepaper.\n",
    "\n",
    "To try this out with the Wikipedia search engine, check out the [Searching Wikipedia with ReAct](https://github.com/google-gemini/cookbook/blob/main/examples/Search_Wikipedia_using_ReAct.ipynb) cookbook example.\n",
    "\n",
    "\n",
    "> Note: The prompt and in-context examples used here are from [https://github.com/ysymyth/ReAct](https://github.com/ysymyth/ReAct) which is published under an [MIT license](https://opensource.org/licenses/MIT), Copyright (c) 2023 Shunyu Yao.\n",
    "\n",
    "<table align=left>\n",
    "  <td>\n",
    "    <a target=\"_blank\" href=\"https://aistudio.google.com/prompts/18oo63Lwosd-bQ6Ay51uGogB3Wk3H8XMO\"><img src=\"https://ai.google.dev/site-assets/images/marketing/home/icon-ais.png\" style=\"height: 24px\" height=24/> Open in AI Studio</a>\n",
    "  </td>\n",
    "</table>\n"
   ]
  },
  {
   "cell_type": "code",
   "execution_count": 25,
   "id": "30017261",
   "metadata": {
    "execution": {
     "iopub.execute_input": "2025-03-31T22:44:10.497027Z",
     "iopub.status.busy": "2025-03-31T22:44:10.496497Z",
     "iopub.status.idle": "2025-03-31T22:44:10.503347Z",
     "shell.execute_reply": "2025-03-31T22:44:10.502311Z"
    },
    "id": "cBgyNJ5z0VSs",
    "papermill": {
     "duration": 0.024917,
     "end_time": "2025-03-31T22:44:10.505670",
     "exception": false,
     "start_time": "2025-03-31T22:44:10.480753",
     "status": "completed"
    },
    "tags": []
   },
   "outputs": [],
   "source": [
    "model_instructions = \"\"\"\n",
    "Solve a question answering task with interleaving Thought, Action, Observation steps. Thought can reason about the current situation,\n",
    "Observation is understanding relevant information from an Action's output and Action can be one of three types:\n",
    " (1) <search>entity</search>, which searches the exact entity on Wikipedia and returns the first paragraph if it exists. If not, it\n",
    "     will return some similar entities to search and you can try to search the information from those topics.\n",
    " (2) <lookup>keyword</lookup>, which returns the next sentence containing keyword in the current context. This only does exact matches,\n",
    "     so keep your searches short.\n",
    " (3) <finish>answer</finish>, which returns the answer and finishes the task.\n",
    "\"\"\"\n",
    "\n",
    "example1 = \"\"\"Question\n",
    "Musician and satirist Allie Goertz wrote a song about the \"The Simpsons\" character Milhouse, who Matt Groening named after who?\n",
    "\n",
    "Thought 1\n",
    "The question simplifies to \"The Simpsons\" character Milhouse is named after who. I only need to search Milhouse and find who it is named after.\n",
    "\n",
    "Action 1\n",
    "<search>Milhouse</search>\n",
    "\n",
    "Observation 1\n",
    "Milhouse Mussolini Van Houten is a recurring character in the Fox animated television series The Simpsons voiced by Pamela Hayden and created by Matt Groening.\n",
    "\n",
    "Thought 2\n",
    "The paragraph does not tell who Milhouse is named after, maybe I can look up \"named after\".\n",
    "\n",
    "Action 2\n",
    "<lookup>named after</lookup>\n",
    "\n",
    "Observation 2\n",
    "Milhouse was named after U.S. president Richard Nixon, whose middle name was Milhous.\n",
    "\n",
    "Thought 3\n",
    "Milhouse was named after U.S. president Richard Nixon, so the answer is Richard Nixon.\n",
    "\n",
    "Action 3\n",
    "<finish>Richard Nixon</finish>\n",
    "\"\"\"\n",
    "\n",
    "example2 = \"\"\"Question\n",
    "What is the elevation range for the area that the eastern sector of the Colorado orogeny extends into?\n",
    "\n",
    "Thought 1\n",
    "I need to search Colorado orogeny, find the area that the eastern sector of the Colorado orogeny extends into, then find the elevation range of the area.\n",
    "\n",
    "Action 1\n",
    "<search>Colorado orogeny</search>\n",
    "\n",
    "Observation 1\n",
    "The Colorado orogeny was an episode of mountain building (an orogeny) in Colorado and surrounding areas.\n",
    "\n",
    "Thought 2\n",
    "It does not mention the eastern sector. So I need to look up eastern sector.\n",
    "\n",
    "Action 2\n",
    "<lookup>eastern sector</lookup>\n",
    "\n",
    "Observation 2\n",
    "The eastern sector extends into the High Plains and is called the Central Plains orogeny.\n",
    "\n",
    "Thought 3\n",
    "The eastern sector of Colorado orogeny extends into the High Plains. So I need to search High Plains and find its elevation range.\n",
    "\n",
    "Action 3\n",
    "<search>High Plains</search>\n",
    "\n",
    "Observation 3\n",
    "High Plains refers to one of two distinct land regions\n",
    "\n",
    "Thought 4\n",
    "I need to instead search High Plains (United States).\n",
    "\n",
    "Action 4\n",
    "<search>High Plains (United States)</search>\n",
    "\n",
    "Observation 4\n",
    "The High Plains are a subregion of the Great Plains. From east to west, the High Plains rise in elevation from around 1,800 to 7,000 ft (550 to 2,130m).\n",
    "\n",
    "Thought 5\n",
    "High Plains rise in elevation from around 1,800 to 7,000 ft, so the answer is 1,800 to 7,000 ft.\n",
    "\n",
    "Action 5\n",
    "<finish>1,800 to 7,000 ft</finish>\n",
    "\"\"\"\n",
    "\n",
    "# Come up with more examples yourself, or take a look through https://github.com/ysymyth/ReAct/"
   ]
  },
  {
   "cell_type": "markdown",
   "id": "df38b873",
   "metadata": {
    "id": "C3wbfstjTgey",
    "papermill": {
     "duration": 0.014336,
     "end_time": "2025-03-31T22:44:10.534526",
     "exception": false,
     "start_time": "2025-03-31T22:44:10.520190",
     "status": "completed"
    },
    "tags": []
   },
   "source": [
    "To capture a single step at a time, while ignoring any hallucinated Observation steps, you will use `stop_sequences` to end the generation process. The steps are `Thought`, `Action`, `Observation`, in that order."
   ]
  },
  {
   "cell_type": "code",
   "execution_count": 26,
   "id": "b485a8c4",
   "metadata": {
    "execution": {
     "iopub.execute_input": "2025-03-31T22:44:10.565207Z",
     "iopub.status.busy": "2025-03-31T22:44:10.564763Z",
     "iopub.status.idle": "2025-03-31T22:44:11.156476Z",
     "shell.execute_reply": "2025-03-31T22:44:11.155169Z"
    },
    "id": "8mxrXRkRTdXm",
    "papermill": {
     "duration": 0.609516,
     "end_time": "2025-03-31T22:44:11.158684",
     "exception": false,
     "start_time": "2025-03-31T22:44:10.549168",
     "status": "completed"
    },
    "tags": []
   },
   "outputs": [
    {
     "name": "stdout",
     "output_type": "stream",
     "text": [
      "Thought 1\n",
      "I need to find the transformers NLP paper, then identify the youngest author listed on that paper.\n",
      "\n",
      "Action 1\n",
      "<search>transformers NLP paper</search>\n",
      "\n"
     ]
    }
   ],
   "source": [
    "question = \"\"\"Question\n",
    "Who was the youngest author listed on the transformers NLP paper?\n",
    "\"\"\"\n",
    "\n",
    "# You will perform the Action; so generate up to, but not including, the Observation.\n",
    "react_config = types.GenerateContentConfig(\n",
    "    stop_sequences=[\"\\nObservation\"],\n",
    "    system_instruction=model_instructions + example1 + example2,\n",
    ")\n",
    "\n",
    "# Create a chat that has the model instructions and examples pre-seeded.\n",
    "react_chat = client.chats.create(\n",
    "    model='gemini-2.0-flash',\n",
    "    config=react_config,\n",
    ")\n",
    "\n",
    "resp = react_chat.send_message(question)\n",
    "print(resp.text)"
   ]
  },
  {
   "cell_type": "markdown",
   "id": "9448419d",
   "metadata": {
    "id": "aW2PIdLbVv3l",
    "papermill": {
     "duration": 0.014518,
     "end_time": "2025-03-31T22:44:11.187963",
     "exception": false,
     "start_time": "2025-03-31T22:44:11.173445",
     "status": "completed"
    },
    "tags": []
   },
   "source": [
    "Now you can perform this research yourself and supply it back to the model."
   ]
  },
  {
   "cell_type": "code",
   "execution_count": 27,
   "id": "9e5d0229",
   "metadata": {
    "execution": {
     "iopub.execute_input": "2025-03-31T22:44:11.219942Z",
     "iopub.status.busy": "2025-03-31T22:44:11.219547Z",
     "iopub.status.idle": "2025-03-31T22:44:12.022840Z",
     "shell.execute_reply": "2025-03-31T22:44:12.021485Z"
    },
    "id": "mLMc0DZaV9g2",
    "papermill": {
     "duration": 0.821615,
     "end_time": "2025-03-31T22:44:12.025223",
     "exception": false,
     "start_time": "2025-03-31T22:44:11.203608",
     "status": "completed"
    },
    "tags": []
   },
   "outputs": [
    {
     "name": "stdout",
     "output_type": "stream",
     "text": [
      "Thought 2\n",
      "The paper is \"Attention Is All You Need\". I need to find out the ages of the authors listed and determine the youngest. This will be hard to determine with a simple search, so I will search each author individually and hope to find their birth date or age.\n",
      "\n",
      "Action 2\n",
      "<search>Ashish Vaswani</search>\n",
      "\n"
     ]
    }
   ],
   "source": [
    "observation = \"\"\"Observation 1\n",
    "[1706.03762] Attention Is All You Need\n",
    "Ashish Vaswani, Noam Shazeer, Niki Parmar, Jakob Uszkoreit, Llion Jones, Aidan N. Gomez, Lukasz Kaiser, Illia Polosukhin\n",
    "We propose a new simple network architecture, the Transformer, based solely on attention mechanisms, dispensing with recurrence and convolutions entirely.\n",
    "\"\"\"\n",
    "resp = react_chat.send_message(observation)\n",
    "print(resp.text)"
   ]
  },
  {
   "cell_type": "markdown",
   "id": "33eb5542",
   "metadata": {
    "id": "bo0tzf4nX6dA",
    "papermill": {
     "duration": 0.01654,
     "end_time": "2025-03-31T22:44:12.056554",
     "exception": false,
     "start_time": "2025-03-31T22:44:12.040014",
     "status": "completed"
    },
    "tags": []
   },
   "source": [
    "This process repeats until the `<finish>` action is reached. You can continue running this yourself if you like, or try the [Wikipedia example](https://github.com/google-gemini/cookbook/blob/main/examples/Search_Wikipedia_using_ReAct.ipynb) to see a fully automated ReAct system at work."
   ]
  },
  {
   "cell_type": "markdown",
   "id": "529a241e",
   "metadata": {
    "papermill": {
     "duration": 0.014279,
     "end_time": "2025-03-31T22:44:12.085552",
     "exception": false,
     "start_time": "2025-03-31T22:44:12.071273",
     "status": "completed"
    },
    "tags": []
   },
   "source": [
    "## Thinking mode\n",
    "\n",
    "The experiemental Gemini Flash 2.0 \"Thinking\" model has been trained to generate the \"thinking process\" the model goes through as part of its response. As a result, the Flash Thinking model is capable of stronger reasoning capabilities in its responses.\n",
    "\n",
    "Using a \"thinking mode\" model can provide you with high-quality responses without needing specialised prompting like the previous approaches. One reason this technique is effective is that you induce the model to generate relevant information (\"brainstorming\", or \"thoughts\") that is then used as part of the context in which the final response is generated.\n",
    "\n",
    "Note that when you use the API, you get the final response from the model, but the thoughts are not captured. To see the intermediate thoughts, try out [the thinking mode model in AI Studio](https://aistudio.google.com/prompts/new_chat?model=gemini-2.0-flash-thinking-exp-01-21).\n",
    "\n",
    "<table align=left>\n",
    "  <td>\n",
    "    <a target=\"_blank\" href=\"https://aistudio.google.com/prompts/1Z991SV7lZZZqioOiqIUPv9a9ix-ws4zk\"><img src=\"https://ai.google.dev/site-assets/images/marketing/home/icon-ais.png\" style=\"height: 24px\" height=24/> Open in AI Studio</a>\n",
    "  </td>\n",
    "</table>"
   ]
  },
  {
   "cell_type": "code",
   "execution_count": 28,
   "id": "e2067e31",
   "metadata": {
    "execution": {
     "iopub.execute_input": "2025-03-31T22:44:12.116448Z",
     "iopub.status.busy": "2025-03-31T22:44:12.115543Z",
     "iopub.status.idle": "2025-03-31T22:44:18.591692Z",
     "shell.execute_reply": "2025-03-31T22:44:18.590548Z"
    },
    "papermill": {
     "duration": 6.493948,
     "end_time": "2025-03-31T22:44:18.593884",
     "exception": false,
     "start_time": "2025-03-31T22:44:12.099936",
     "status": "completed"
    },
    "tags": []
   },
   "outputs": [
    {
     "data": {
      "text/markdown": [
       "Based on the information available, the youngest author listed on the \"Attention is All You Need\" paper (the foundational Transformers NLP paper) is likely **Aidan N. Gomez**.\n",
       "\n",
       "Here's why:\n",
       "\n",
       "* **Aidan N. Gomez** was affiliated with the University of Toronto and Google Brain (intern) at the time of publication. Being an intern typically suggests a younger career stage compared to researchers who are fully employed at Google Brain.  His academic affiliation also points towards him being potentially a graduate student or in an early career stage.\n",
       "\n",
       "* The other authors were all researchers at Google Brain, which generally indicates more established career paths and likely older ages compared to an intern.\n",
       "\n",
       "While we don't have exact birthdates for all authors to definitively determine the *absolute* youngest, based on typical career trajectories and affiliations at the time of publication, **Aidan N. Gomez is the most probable youngest author.**\n",
       "\n",
       "It's important to note that \"youngest\" here is inferred based on career stage and typical academic/industry roles.  Without access to private information like birthdates, this is the most reasonable conclusion."
      ],
      "text/plain": [
       "<IPython.core.display.Markdown object>"
      ]
     },
     "execution_count": 28,
     "metadata": {},
     "output_type": "execute_result"
    }
   ],
   "source": [
    "import io\n",
    "from IPython.display import Markdown, clear_output\n",
    "\n",
    "\n",
    "response = client.models.generate_content_stream(\n",
    "    model='gemini-2.0-flash-thinking-exp',\n",
    "    contents='Who was the youngest author listed on the transformers NLP paper?',\n",
    ")\n",
    "\n",
    "buf = io.StringIO()\n",
    "for chunk in response:\n",
    "    buf.write(chunk.text)\n",
    "    # Display the response as it is streamed\n",
    "    print(chunk.text, end='')\n",
    "\n",
    "# And then render the finished response as formatted markdown.\n",
    "clear_output()\n",
    "Markdown(buf.getvalue())"
   ]
  },
  {
   "cell_type": "markdown",
   "id": "fe2cded8",
   "metadata": {
    "id": "jPiZ_eIIaVPt",
    "papermill": {
     "duration": 0.015321,
     "end_time": "2025-03-31T22:44:18.624364",
     "exception": false,
     "start_time": "2025-03-31T22:44:18.609043",
     "status": "completed"
    },
    "tags": []
   },
   "source": [
    "## Code prompting"
   ]
  },
  {
   "cell_type": "markdown",
   "id": "cae6cac2",
   "metadata": {
    "id": "ZinKamwXeR6C",
    "papermill": {
     "duration": 0.014455,
     "end_time": "2025-03-31T22:44:18.653473",
     "exception": false,
     "start_time": "2025-03-31T22:44:18.639018",
     "status": "completed"
    },
    "tags": []
   },
   "source": [
    "### Generating code\n",
    "\n",
    "The Gemini family of models can be used to generate code, configuration and scripts. Generating code can be helpful when learning to code, learning a new language or for rapidly generating a first draft.\n",
    "\n",
    "It's important to be aware that since LLMs can make mistakes, and can repeat training data, it's essential to read and test your code first, and comply with any relevant licenses.\n",
    "\n",
    "<table align=left>\n",
    "  <td>\n",
    "    <a target=\"_blank\" href=\"https://aistudio.google.com/prompts/1YX71JGtzDjXQkgdes8bP6i3oH5lCRKxv\"><img src=\"https://ai.google.dev/site-assets/images/marketing/home/icon-ais.png\" style=\"height: 24px\" height=24/> Open in AI Studio</a>\n",
    "  </td>\n",
    "</table>"
   ]
  },
  {
   "cell_type": "code",
   "execution_count": 29,
   "id": "dab240f6",
   "metadata": {
    "execution": {
     "iopub.execute_input": "2025-03-31T22:44:18.685755Z",
     "iopub.status.busy": "2025-03-31T22:44:18.685363Z",
     "iopub.status.idle": "2025-03-31T22:44:19.244347Z",
     "shell.execute_reply": "2025-03-31T22:44:19.243363Z"
    },
    "id": "fOQP9pqmeUO1",
    "papermill": {
     "duration": 0.578045,
     "end_time": "2025-03-31T22:44:19.246504",
     "exception": false,
     "start_time": "2025-03-31T22:44:18.668459",
     "status": "completed"
    },
    "tags": []
   },
   "outputs": [
    {
     "data": {
      "text/markdown": [
       "```python\n",
       "def factorial(n):\n",
       "    if n == 0:\n",
       "        return 1\n",
       "    else:\n",
       "        return n * factorial(n-1)\n",
       "```"
      ],
      "text/plain": [
       "<IPython.core.display.Markdown object>"
      ]
     },
     "execution_count": 29,
     "metadata": {},
     "output_type": "execute_result"
    }
   ],
   "source": [
    "# The Gemini models love to talk, so it helps to specify they stick to the code if that\n",
    "# is all that you want.\n",
    "code_prompt = \"\"\"\n",
    "Write a Python function to calculate the factorial of a number. No explanation, provide only the code.\n",
    "\"\"\"\n",
    "\n",
    "response = client.models.generate_content(\n",
    "    model='gemini-2.0-flash',\n",
    "    config=types.GenerateContentConfig(\n",
    "        temperature=1,\n",
    "        top_p=1,\n",
    "        max_output_tokens=1024,\n",
    "    ),\n",
    "    contents=code_prompt)\n",
    "\n",
    "Markdown(response.text)"
   ]
  },
  {
   "cell_type": "markdown",
   "id": "bf09d639",
   "metadata": {
    "id": "wlBMWSFhgVRQ",
    "papermill": {
     "duration": 0.014283,
     "end_time": "2025-03-31T22:44:19.275820",
     "exception": false,
     "start_time": "2025-03-31T22:44:19.261537",
     "status": "completed"
    },
    "tags": []
   },
   "source": [
    "### Code execution\n",
    "\n",
    "The Gemini API can automatically run generated code too, and will return the output.\n",
    "\n",
    "<table align=left>\n",
    "  <td>\n",
    "    <a target=\"_blank\" href=\"https://aistudio.google.com/prompts/11veFr_VYEwBWcLkhNLr-maCG0G8sS_7Z\"><img src=\"https://ai.google.dev/site-assets/images/marketing/home/icon-ais.png\" style=\"height: 24px\" height=24/> Open in AI Studio</a>\n",
    "  </td>\n",
    "</table>"
   ]
  },
  {
   "cell_type": "code",
   "execution_count": 30,
   "id": "d2e46fa3",
   "metadata": {
    "execution": {
     "iopub.execute_input": "2025-03-31T22:44:19.306825Z",
     "iopub.status.busy": "2025-03-31T22:44:19.306451Z",
     "iopub.status.idle": "2025-03-31T22:44:21.191105Z",
     "shell.execute_reply": "2025-03-31T22:44:21.189808Z"
    },
    "id": "jT3OfWYfhjRL",
    "papermill": {
     "duration": 1.90275,
     "end_time": "2025-03-31T22:44:21.193358",
     "exception": false,
     "start_time": "2025-03-31T22:44:19.290608",
     "status": "completed"
    },
    "tags": []
   },
   "outputs": [
    {
     "name": "stdout",
     "output_type": "stream",
     "text": [
      "{'text': 'Okay, I understand. First, I will generate the first 14 odd prime '\n",
      "         'numbers. A prime number is a natural number greater than 1 that has '\n",
      "         'no positive divisors other than 1 and itself. The first few prime '\n",
      "         'numbers are 2, 3, 5, 7, 11, and so on. Since the question asks for '\n",
      "         \"odd prime numbers, I should exclude 2. Then, I'll calculate the sum \"\n",
      "         'of the first 14 odd prime numbers.\\n'\n",
      "         '\\n'}\n",
      "-----\n",
      "{'executable_code': {'code': 'primes = [3, 5, 7, 11, 13, 17, 19, 23, 29, 31, '\n",
      "                             '37, 41, 43, 47]\\n'\n",
      "                             'sum_of_primes = sum(primes)\\n'\n",
      "                             \"print(f'{primes=}')\\n\"\n",
      "                             \"print(f'{sum_of_primes=}')\\n\",\n",
      "                     'language': 'PYTHON'}}\n",
      "-----\n",
      "{'code_execution_result': {'outcome': 'OUTCOME_OK',\n",
      "                           'output': 'primes=[3, 5, 7, 11, 13, 17, 19, 23, 29, '\n",
      "                                     '31, 37, 41, 43, 47]\\n'\n",
      "                                     'sum_of_primes=326\\n'}}\n",
      "-----\n",
      "{'text': 'The first 14 odd prime numbers are 3, 5, 7, 11, 13, 17, 19, 23, 29, '\n",
      "         '31, 37, 41, 43, and 47. Their sum is 326.\\n'}\n",
      "-----\n"
     ]
    }
   ],
   "source": [
    "from pprint import pprint\n",
    "\n",
    "config = types.GenerateContentConfig(\n",
    "    tools=[types.Tool(code_execution=types.ToolCodeExecution())],\n",
    ")\n",
    "\n",
    "code_exec_prompt = \"\"\"\n",
    "Generate the first 14 odd prime numbers, then calculate their sum.\n",
    "\"\"\"\n",
    "\n",
    "response = client.models.generate_content(\n",
    "    model='gemini-2.0-flash',\n",
    "    config=config,\n",
    "    contents=code_exec_prompt)\n",
    "\n",
    "for part in response.candidates[0].content.parts:\n",
    "  pprint(part.to_json_dict())\n",
    "  print(\"-----\")"
   ]
  },
  {
   "cell_type": "markdown",
   "id": "58594814",
   "metadata": {
    "id": "ZspT1GSkjG6d",
    "papermill": {
     "duration": 0.016396,
     "end_time": "2025-03-31T22:44:21.224810",
     "exception": false,
     "start_time": "2025-03-31T22:44:21.208414",
     "status": "completed"
    },
    "tags": []
   },
   "source": [
    "This response contains multiple parts, including an opening and closing text part that represent regular responses, an `executable_code` part that represents generated code and a `code_execution_result` part that represents the results from running the generated code.\n",
    "\n",
    "You can explore them individually."
   ]
  },
  {
   "cell_type": "code",
   "execution_count": 31,
   "id": "dab83706",
   "metadata": {
    "execution": {
     "iopub.execute_input": "2025-03-31T22:44:21.258109Z",
     "iopub.status.busy": "2025-03-31T22:44:21.257100Z",
     "iopub.status.idle": "2025-03-31T22:44:21.270912Z",
     "shell.execute_reply": "2025-03-31T22:44:21.269876Z"
    },
    "papermill": {
     "duration": 0.033405,
     "end_time": "2025-03-31T22:44:21.273335",
     "exception": false,
     "start_time": "2025-03-31T22:44:21.239930",
     "status": "completed"
    },
    "tags": []
   },
   "outputs": [
    {
     "data": {
      "text/markdown": [
       "Okay, I understand. First, I will generate the first 14 odd prime numbers. A prime number is a natural number greater than 1 that has no positive divisors other than 1 and itself. The first few prime numbers are 2, 3, 5, 7, 11, and so on. Since the question asks for odd prime numbers, I should exclude 2. Then, I'll calculate the sum of the first 14 odd prime numbers.\n",
       "\n"
      ],
      "text/plain": [
       "<IPython.core.display.Markdown object>"
      ]
     },
     "metadata": {},
     "output_type": "display_data"
    },
    {
     "data": {
      "text/markdown": [
       "```python\n",
       "primes = [3, 5, 7, 11, 13, 17, 19, 23, 29, 31, 37, 41, 43, 47]\n",
       "sum_of_primes = sum(primes)\n",
       "print(f'{primes=}')\n",
       "print(f'{sum_of_primes=}')\n",
       "\n",
       "```"
      ],
      "text/plain": [
       "<IPython.core.display.Markdown object>"
      ]
     },
     "metadata": {},
     "output_type": "display_data"
    },
    {
     "data": {
      "text/markdown": [
       "```\n",
       "primes=[3, 5, 7, 11, 13, 17, 19, 23, 29, 31, 37, 41, 43, 47]\n",
       "sum_of_primes=326\n",
       "\n",
       "```"
      ],
      "text/plain": [
       "<IPython.core.display.Markdown object>"
      ]
     },
     "metadata": {},
     "output_type": "display_data"
    },
    {
     "data": {
      "text/markdown": [
       "The first 14 odd prime numbers are 3, 5, 7, 11, 13, 17, 19, 23, 29, 31, 37, 41, 43, and 47. Their sum is 326.\n"
      ],
      "text/plain": [
       "<IPython.core.display.Markdown object>"
      ]
     },
     "metadata": {},
     "output_type": "display_data"
    }
   ],
   "source": [
    "for part in response.candidates[0].content.parts:\n",
    "    if part.text:\n",
    "        display(Markdown(part.text))\n",
    "    elif part.executable_code:\n",
    "        display(Markdown(f'```python\\n{part.executable_code.code}\\n```'))\n",
    "    elif part.code_execution_result:\n",
    "        if part.code_execution_result.outcome != 'OUTCOME_OK':\n",
    "            display(Markdown(f'## Status {part.code_execution_result.outcome}'))\n",
    "\n",
    "        display(Markdown(f'```\\n{part.code_execution_result.output}\\n```'))"
   ]
  },
  {
   "cell_type": "markdown",
   "id": "7643a11b",
   "metadata": {
    "id": "1gUX8QzCj4d5",
    "papermill": {
     "duration": 0.015046,
     "end_time": "2025-03-31T22:44:21.304462",
     "exception": false,
     "start_time": "2025-03-31T22:44:21.289416",
     "status": "completed"
    },
    "tags": []
   },
   "source": [
    "### Explaining code\n",
    "\n",
    "The Gemini family of models can explain code to you too. In this example, you pass a [bash script](https://github.com/magicmonty/bash-git-prompt) and ask some questions.\n",
    "\n",
    "<table align=left>\n",
    "  <td>\n",
    "    <a target=\"_blank\" href=\"https://aistudio.google.com/prompts/1N7LGzWzCYieyOf_7bAG4plrmkpDNmUyb\"><img src=\"https://ai.google.dev/site-assets/images/marketing/home/icon-ais.png\" style=\"height: 24px\" height=24/> Open in AI Studio</a>\n",
    "  </td>\n",
    "</table>"
   ]
  },
  {
   "cell_type": "code",
   "execution_count": 32,
   "id": "7d7f54ef",
   "metadata": {
    "execution": {
     "iopub.execute_input": "2025-03-31T22:44:21.336828Z",
     "iopub.status.busy": "2025-03-31T22:44:21.336429Z",
     "iopub.status.idle": "2025-03-31T22:44:23.867973Z",
     "shell.execute_reply": "2025-03-31T22:44:23.866908Z"
    },
    "id": "7_jPMMoxkIEb",
    "papermill": {
     "duration": 2.550192,
     "end_time": "2025-03-31T22:44:23.870135",
     "exception": false,
     "start_time": "2025-03-31T22:44:21.319943",
     "status": "completed"
    },
    "tags": []
   },
   "outputs": [
    {
     "data": {
      "text/markdown": [
       "This file is a Bash script designed to enhance your command-line prompt with Git repository information.  It customizes your prompt to display things like the current branch, the status of your working directory (modified, staged, etc.), and whether your local branch is ahead or behind the remote.\n",
       "\n",
       "Here's a breakdown:\n",
       "\n",
       "*   **What it is:** A script that dynamically modifies your terminal prompt to include Git-related information, making it easier to stay aware of your repository's state.\n",
       "*   **Why use it:**\n",
       "    *   **At-a-glance Git status:** You can immediately see the branch you're on, if there are uncommitted changes, and the relationship to the remote branch without running `git status`.\n",
       "    *   **Improved workflow:**  Having Git information in your prompt can speed up your workflow by providing immediate feedback.\n",
       "    *   **Customization:** The script offers options to customize the colors, symbols, and information displayed, allowing you to tailor the prompt to your preferences.\n",
       "*   **How it works:**\n",
       "    *   It defines functions to fetch Git status, format the output, and integrate it into your `PS1` environment variable (which controls the prompt).\n",
       "    *   It supports asynchronous fetching of remote branch status to avoid slowing down your prompt.\n",
       "    *   It uses colors and symbols to represent different Git states (e.g., modified files, staged changes, branch divergence).\n",
       "    *   It looks for themes and color settings so you can customize the appearance.\n",
       "    *   It installs itself by modifying the `PROMPT_COMMAND` so the prompt is updated every time you execute a command.\n",
       "\n",
       "In short, this script aims to make your command-line experience more Git-aware and efficient.\n"
      ],
      "text/plain": [
       "<IPython.core.display.Markdown object>"
      ]
     },
     "execution_count": 32,
     "metadata": {},
     "output_type": "execute_result"
    }
   ],
   "source": [
    "file_contents = !curl https://raw.githubusercontent.com/magicmonty/bash-git-prompt/refs/heads/master/gitprompt.sh\n",
    "\n",
    "explain_prompt = f\"\"\"\n",
    "Please explain what this file does at a very high level. What is it, and why would I use it?\n",
    "\n",
    "```\n",
    "{file_contents}\n",
    "```\n",
    "\"\"\"\n",
    "\n",
    "response = client.models.generate_content(\n",
    "    model='gemini-2.0-flash',\n",
    "    contents=explain_prompt)\n",
    "\n",
    "Markdown(response.text)"
   ]
  },
  {
   "cell_type": "markdown",
   "id": "6228824b",
   "metadata": {
    "id": "2a8266d97ce5",
    "papermill": {
     "duration": 0.016336,
     "end_time": "2025-03-31T22:44:23.902477",
     "exception": false,
     "start_time": "2025-03-31T22:44:23.886141",
     "status": "completed"
    },
    "tags": []
   },
   "source": [
    "## Learn more\n",
    "\n",
    "To learn more about prompting in depth:\n",
    "\n",
    "* Check out the whitepaper issued with today's content,\n",
    "* Try out the apps listed at the top of this notebook ([TextFX](https://textfx.withgoogle.com/), [SQL Talk](https://sql-talk-r5gdynozbq-uc.a.run.app/) and [NotebookLM](https://notebooklm.google/)),\n",
    "* Read the [Introduction to Prompting](https://ai.google.dev/gemini-api/docs/prompting-intro) from the Gemini API docs,\n",
    "* Explore the Gemini API's [prompt gallery](https://ai.google.dev/gemini-api/prompts) and try them out in AI Studio,\n",
    "* Check out the Gemini API cookbook for [inspirational examples](https://github.com/google-gemini/cookbook/blob/main/examples/) and [educational quickstarts](https://github.com/google-gemini/cookbook/blob/main/quickstarts/).\n",
    "\n",
    "Be sure to check out the codelabs on day 3 too, where you will explore some more advanced prompting with code execution.\n",
    "\n",
    "And please share anything exciting you have tried in the Discord!\n",
    "\n",
    "*- [Mark McD](https://linktr.ee/markmcd)*"
   ]
  }
 ],
 "metadata": {
  "colab": {
   "name": "day-1-prompting.ipynb",
   "toc_visible": true
  },
  "kaggle": {
   "accelerator": "none",
   "dataSources": [],
   "dockerImageVersionId": 30786,
   "isGpuEnabled": false,
   "isInternetEnabled": true,
   "language": "python",
   "sourceType": "notebook"
  },
  "kernelspec": {
   "display_name": "Python 3",
   "language": "python",
   "name": "python3"
  },
  "language_info": {
   "codemirror_mode": {
    "name": "ipython",
    "version": 3
   },
   "file_extension": ".py",
   "mimetype": "text/x-python",
   "name": "python",
   "nbconvert_exporter": "python",
   "pygments_lexer": "ipython3",
   "version": "3.10.14"
  },
  "papermill": {
   "default_parameters": {},
   "duration": 113.521199,
   "end_time": "2025-03-31T22:44:24.639916",
   "environment_variables": {},
   "exception": null,
   "input_path": "__notebook__.ipynb",
   "output_path": "__notebook__.ipynb",
   "parameters": {},
   "start_time": "2025-03-31T22:42:31.118717",
   "version": "2.6.0"
  }
 },
 "nbformat": 4,
 "nbformat_minor": 5
}
